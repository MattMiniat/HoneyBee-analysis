{
 "cells": [
  {
   "cell_type": "code",
   "execution_count": 12,
   "metadata": {},
   "outputs": [],
   "source": [
    "#from api_keys2 import stats_api\n",
    "import pandas as pd\n",
    "import requests\n",
    "import matplotlib.pyplot as plt\n",
    "import numpy as np\n",
    "\n",
    "stats_api = \"0F83A24A-FB0C-3630-B7F3-0680AEFF19F9\"\n"
   ]
  },
  {
   "cell_type": "code",
   "execution_count": null,
   "metadata": {},
   "outputs": [],
   "source": []
  },
  {
   "cell_type": "code",
   "execution_count": 14,
   "metadata": {},
   "outputs": [
    {
     "data": {
      "text/html": [
       "<div>\n",
       "<style scoped>\n",
       "    .dataframe tbody tr th:only-of-type {\n",
       "        vertical-align: middle;\n",
       "    }\n",
       "\n",
       "    .dataframe tbody tr th {\n",
       "        vertical-align: top;\n",
       "    }\n",
       "\n",
       "    .dataframe thead th {\n",
       "        text-align: right;\n",
       "    }\n",
       "</style>\n",
       "<table border=\"1\" class=\"dataframe\">\n",
       "  <thead>\n",
       "    <tr style=\"text-align: right;\">\n",
       "      <th></th>\n",
       "      <th>Year</th>\n",
       "      <th>State</th>\n",
       "      <th>Commodity</th>\n",
       "      <th>Data Type</th>\n",
       "      <th>Value</th>\n",
       "    </tr>\n",
       "  </thead>\n",
       "  <tbody>\n",
       "    <tr>\n",
       "      <th>0</th>\n",
       "      <td>2019</td>\n",
       "      <td>US TOTAL</td>\n",
       "      <td>HONEY</td>\n",
       "      <td>HONEY, BEE COLONIES - INVENTORY, MEASURED IN C...</td>\n",
       "      <td>2,812,000</td>\n",
       "    </tr>\n",
       "    <tr>\n",
       "      <th>1</th>\n",
       "      <td>2018</td>\n",
       "      <td>US TOTAL</td>\n",
       "      <td>HONEY</td>\n",
       "      <td>HONEY, BEE COLONIES - INVENTORY, MEASURED IN C...</td>\n",
       "      <td>2,828,000</td>\n",
       "    </tr>\n",
       "    <tr>\n",
       "      <th>2</th>\n",
       "      <td>2017</td>\n",
       "      <td>US TOTAL</td>\n",
       "      <td>HONEY</td>\n",
       "      <td>HONEY, BEE COLONIES - INVENTORY, MEASURED IN C...</td>\n",
       "      <td>2,684,000</td>\n",
       "    </tr>\n",
       "    <tr>\n",
       "      <th>3</th>\n",
       "      <td>2016</td>\n",
       "      <td>US TOTAL</td>\n",
       "      <td>HONEY</td>\n",
       "      <td>HONEY, BEE COLONIES - INVENTORY, MEASURED IN C...</td>\n",
       "      <td>2,780,000</td>\n",
       "    </tr>\n",
       "    <tr>\n",
       "      <th>4</th>\n",
       "      <td>2015</td>\n",
       "      <td>US TOTAL</td>\n",
       "      <td>HONEY</td>\n",
       "      <td>HONEY, BEE COLONIES - INVENTORY, MEASURED IN C...</td>\n",
       "      <td>2,661,000</td>\n",
       "    </tr>\n",
       "    <tr>\n",
       "      <th>...</th>\n",
       "      <td>...</td>\n",
       "      <td>...</td>\n",
       "      <td>...</td>\n",
       "      <td>...</td>\n",
       "      <td>...</td>\n",
       "    </tr>\n",
       "    <tr>\n",
       "      <th>1465</th>\n",
       "      <td>1995</td>\n",
       "      <td>OTHER STATES</td>\n",
       "      <td>HONEY</td>\n",
       "      <td>HONEY, BEE COLONIES - INVENTORY, MEASURED IN C...</td>\n",
       "      <td>8,000</td>\n",
       "    </tr>\n",
       "    <tr>\n",
       "      <th>1466</th>\n",
       "      <td>1994</td>\n",
       "      <td>OTHER STATES</td>\n",
       "      <td>HONEY</td>\n",
       "      <td>HONEY, BEE COLONIES - INVENTORY, MEASURED IN C...</td>\n",
       "      <td>6,000</td>\n",
       "    </tr>\n",
       "    <tr>\n",
       "      <th>1467</th>\n",
       "      <td>1993</td>\n",
       "      <td>OTHER STATES</td>\n",
       "      <td>HONEY</td>\n",
       "      <td>HONEY, BEE COLONIES - INVENTORY, MEASURED IN C...</td>\n",
       "      <td>9,000</td>\n",
       "    </tr>\n",
       "    <tr>\n",
       "      <th>1468</th>\n",
       "      <td>1992</td>\n",
       "      <td>OTHER STATES</td>\n",
       "      <td>HONEY</td>\n",
       "      <td>HONEY, BEE COLONIES - INVENTORY, MEASURED IN C...</td>\n",
       "      <td>9,000</td>\n",
       "    </tr>\n",
       "    <tr>\n",
       "      <th>1469</th>\n",
       "      <td>1991</td>\n",
       "      <td>OTHER STATES</td>\n",
       "      <td>HONEY</td>\n",
       "      <td>HONEY, BEE COLONIES - INVENTORY, MEASURED IN C...</td>\n",
       "      <td>12,000</td>\n",
       "    </tr>\n",
       "  </tbody>\n",
       "</table>\n",
       "<p>1470 rows × 5 columns</p>\n",
       "</div>"
      ],
      "text/plain": [
       "      Year         State Commodity  \\\n",
       "0     2019      US TOTAL     HONEY   \n",
       "1     2018      US TOTAL     HONEY   \n",
       "2     2017      US TOTAL     HONEY   \n",
       "3     2016      US TOTAL     HONEY   \n",
       "4     2015      US TOTAL     HONEY   \n",
       "...    ...           ...       ...   \n",
       "1465  1995  OTHER STATES     HONEY   \n",
       "1466  1994  OTHER STATES     HONEY   \n",
       "1467  1993  OTHER STATES     HONEY   \n",
       "1468  1992  OTHER STATES     HONEY   \n",
       "1469  1991  OTHER STATES     HONEY   \n",
       "\n",
       "                                              Data Type      Value  \n",
       "0     HONEY, BEE COLONIES - INVENTORY, MEASURED IN C...  2,812,000  \n",
       "1     HONEY, BEE COLONIES - INVENTORY, MEASURED IN C...  2,828,000  \n",
       "2     HONEY, BEE COLONIES - INVENTORY, MEASURED IN C...  2,684,000  \n",
       "3     HONEY, BEE COLONIES - INVENTORY, MEASURED IN C...  2,780,000  \n",
       "4     HONEY, BEE COLONIES - INVENTORY, MEASURED IN C...  2,661,000  \n",
       "...                                                 ...        ...  \n",
       "1465  HONEY, BEE COLONIES - INVENTORY, MEASURED IN C...      8,000  \n",
       "1466  HONEY, BEE COLONIES - INVENTORY, MEASURED IN C...      6,000  \n",
       "1467  HONEY, BEE COLONIES - INVENTORY, MEASURED IN C...      9,000  \n",
       "1468  HONEY, BEE COLONIES - INVENTORY, MEASURED IN C...      9,000  \n",
       "1469  HONEY, BEE COLONIES - INVENTORY, MEASURED IN C...     12,000  \n",
       "\n",
       "[1470 rows x 5 columns]"
      ]
     },
     "execution_count": 14,
     "metadata": {},
     "output_type": "execute_result"
    }
   ],
   "source": [
    "honey_data = []\n",
    "honey_data = pd.DataFrame(honey_data)\n",
    "honey_data[\"Year\"] = ''\n",
    "honey_data[\"State\"] = ''\n",
    "\n",
    "params = {\n",
    "    'key': stats_api,\n",
    "    'reference_period_desc' : 'MARKETING YEAR',\n",
    "    'commodity_desc' : 'HONEY',\n",
    "    'short_desc' : 'HONEY, BEE COLONIES - INVENTORY, MEASURED IN COLONIES',\n",
    "}\n",
    "\n",
    "base_url = 'https://quickstats.nass.usda.gov/api/api_GET/'\n",
    "\n",
    "\n",
    "response = requests.get(base_url, params=params).json()\n",
    "#print(response)\n",
    "\n",
    "for x in (range(len(response['data']))):\n",
    "\n",
    "    honey_data.loc[x,'Year'] = response['data'][x]['year']\n",
    "    honey_data.loc[x,'State'] = response['data'][x]['location_desc']\n",
    "    honey_data.loc[x,'Commodity'] = response['data'][x]['commodity_desc']\n",
    "    honey_data.loc[x,'Data Type'] = response['data'][x]['short_desc']\n",
    "    honey_data.loc[x,'Value'] = response['data'][x]['Value']\n",
    "\n",
    "\n",
    "honey_data\n"
   ]
  },
  {
   "cell_type": "code",
   "execution_count": 15,
   "metadata": {},
   "outputs": [],
   "source": [
    "honey_data[\"Value\"] = pd.to_numeric(honey_data[\"Value\"].str.replace(',',''), errors='coerce')"
   ]
  },
  {
   "cell_type": "code",
   "execution_count": 16,
   "metadata": {},
   "outputs": [],
   "source": [
    "def HoneyBeeState(x):\n",
    "    x = input(\"What State would you like to plot?\")\n",
    "    x_upper = x.upper()\n",
    "    honey_data_by_state = honey_data.loc[honey_data[\"State\"] == f\"{x_upper}\"]\n",
    "\n",
    "    x_axis = honey_data_by_state[\"Year\"]\n",
    "    y_axis = honey_data_by_state[\"Value\"]\n",
    "\n",
    "    plt.plot(x_axis, y_axis, color=\"Red\", linewidth=1)\n",
    "    plt.xticks(np.arange(1987, 2020, step=2), rotation=45)\n",
    "    plt.xlabel(\"Year\")\n",
    "    plt.ylabel(\"Number of Honey Bee Colonies\")\n",
    "    plt.title(f\"Number of Honey Bee Colonies over Time in {x}\")"
   ]
  },
  {
   "cell_type": "code",
   "execution_count": 17,
   "metadata": {},
   "outputs": [
    {
     "name": "stdout",
     "output_type": "stream",
     "text": [
      "What State would you like to plot?texas\n"
     ]
    },
    {
     "data": {
      "image/png": "[encoded data removed]",
      "text/plain": [
       "<Figure size 432x288 with 1 Axes>"
      ]
     },
     "metadata": {
      "needs_background": "light"
     },
     "output_type": "display_data"
    }
   ],
   "source": [
    "HoneyBeeState(x)"
   ]
  },
  {
   "cell_type": "code",
   "execution_count": 20,
   "metadata": {},
   "outputs": [],
   "source": [
    "honey_data.to_csv('honey_data.csv')"
   ]
  },
  {
   "cell_type": "code",
   "execution_count": null,
   "metadata": {},
   "outputs": [],
   "source": []
  }
 ],
 "metadata": {
  "file_extension": ".py",
  "kernelspec": {
   "display_name": "Python 3",
   "language": "python",
   "name": "python3"
  },
  "language_info": {
   "codemirror_mode": {
    "name": "ipython",
    "version": 3
   },
   "file_extension": ".py",
   "mimetype": "text/x-python",
   "name": "python",
   "nbconvert_exporter": "python",
   "pygments_lexer": "ipython3",
   "version": "3.7.4"
  },
  "mimetype": "text/x-python",
  "name": "python",
  "npconvert_exporter": "python",
  "pygments_lexer": "ipython3",
  "version": 3
 },
 "nbformat": 4,
 "nbformat_minor": 2
}
